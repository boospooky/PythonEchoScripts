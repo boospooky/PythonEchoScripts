{
 "cells": [
  {
   "cell_type": "markdown",
   "metadata": {},
   "source": [
    "# TXTL Echo generator  \n",
    "This python script will generate a .csv file that can be automatically fed into the Echo to do a N x N characterization matrix for any combination of two plasmids in TXTL. Currently the script is only designed to do the same number of rows and columns but you can set different minmax concentrations and linear spacing for each plasmid. \n"
   ]
  },
  {
   "cell_type": "code",
   "execution_count": 2,
   "metadata": {
    "collapsed": false
   },
   "outputs": [
    {
     "name": "stdout",
     "output_type": "stream",
     "text": [
      "8\n",
      "10\n"
     ]
    }
   ],
   "source": [
    "from echo_functions import *\n",
    "\n",
    "dna1_final = range(0,6,1) # in nM\n",
    "dna2_final = range(0,6,1) # in nM\n",
    "\n",
    "rxn_vol = 5\n",
    "# Integrase plasmid\n",
    "dna1_conc = 300 # 1704 ng/ul stock\n",
    "dna1_len = 4524 # bp\n",
    "\n",
    "# Reporter plasmid\n",
    "dna2_conc = 300 #564 ng/ul stock\n",
    "dna2_len = 4656 # bp\n",
    "\n",
    "# bxb1_srcwells = ['dna1 source well','dna2 source well','water source well']\n",
    "bxb1_srcwells = ['C1','C2','C3']\n",
    "firstwell = ['C', '10']\n",
    "\n",
    "echo_csv_maker(rxn_vol, dna1_conc, dna1_len, dna2_conc, dna2_len, dna1_final, dna2_final, 'bxb1',bxb1_srcwells, firstwell)\n"
   ]
  },
  {
   "cell_type": "code",
   "execution_count": null,
   "metadata": {
    "collapsed": true
   },
   "outputs": [],
   "source": []
  }
 ],
 "metadata": {
  "anaconda-cloud": {},
  "kernelspec": {
   "display_name": "Python [default]",
   "language": "python",
   "name": "python3"
  },
  "language_info": {
   "codemirror_mode": {
    "name": "ipython",
    "version": 3
   },
   "file_extension": ".py",
   "mimetype": "text/x-python",
   "name": "python",
   "nbconvert_exporter": "python",
   "pygments_lexer": "ipython3",
   "version": "3.5.2"
  }
 },
 "nbformat": 4,
 "nbformat_minor": 0
}
